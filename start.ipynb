{
 "cells": [
  {
   "cell_type": "code",
   "execution_count": 1,
   "metadata": {},
   "outputs": [],
   "source": [
    "import pandas as pd\n",
    "import numpy as np\n",
    "import matplotlib.pyplot as plt\n",
    "import seaborn as sns\n",
    "\n",
    "plt.style.use('ggplot')\n",
    "\n",
    "import nltk"
   ]
  },
  {
   "cell_type": "code",
   "execution_count": 20,
   "metadata": {},
   "outputs": [
    {
     "name": "stdout",
     "output_type": "stream",
     "text": [
      "(260, 10)\n"
     ]
    },
    {
     "data": {
      "text/html": [
       "<div>\n",
       "<style scoped>\n",
       "    .dataframe tbody tr th:only-of-type {\n",
       "        vertical-align: middle;\n",
       "    }\n",
       "\n",
       "    .dataframe tbody tr th {\n",
       "        vertical-align: top;\n",
       "    }\n",
       "\n",
       "    .dataframe thead th {\n",
       "        text-align: right;\n",
       "    }\n",
       "</style>\n",
       "<table border=\"1\" class=\"dataframe\">\n",
       "  <thead>\n",
       "    <tr style=\"text-align: right;\">\n",
       "      <th></th>\n",
       "      <th>id</th>\n",
       "      <th>date</th>\n",
       "      <th>main_headline</th>\n",
       "      <th>authors</th>\n",
       "      <th>description</th>\n",
       "      <th>source</th>\n",
       "      <th>bias</th>\n",
       "      <th>headline</th>\n",
       "      <th>link</th>\n",
       "      <th>text</th>\n",
       "      <th>text_len</th>\n",
       "    </tr>\n",
       "  </thead>\n",
       "  <tbody>\n",
       "    <tr>\n",
       "      <th>0</th>\n",
       "      <td>0</td>\n",
       "      <td>6/22/2020</td>\n",
       "      <td>b'Trump Admin Suspends Certain Visas Through E...</td>\n",
       "      <td>Hamed Aleaziz, Jeremy Singer-Vine, Adolfo Flor...</td>\n",
       "      <td>The Trump administration announced Monday that...</td>\n",
       "      <td>BuzzFeed News</td>\n",
       "      <td>Left</td>\n",
       "      <td>b'Trump Is Suspending Certain Visas For Foreig...</td>\n",
       "      <td>https://www.buzzfeednews.com/article/adolfoflo...</td>\n",
       "      <td>BuzzFeed News has reporters around the world b...</td>\n",
       "      <td>3358</td>\n",
       "    </tr>\n",
       "    <tr>\n",
       "      <th>1</th>\n",
       "      <td>1</td>\n",
       "      <td>6/22/2020</td>\n",
       "      <td>b'Trump Admin Suspends Certain Visas Through E...</td>\n",
       "      <td>Ted Hesson, Min Read</td>\n",
       "      <td>The Trump administration announced Monday that...</td>\n",
       "      <td>Reuters</td>\n",
       "      <td>Center</td>\n",
       "      <td>b'Trump to suspend entry of certain foreign wo...</td>\n",
       "      <td>https://www.reuters.com/article/us-usa-immigra...</td>\n",
       "      <td>WASHINGTON (Reuters) - U.S. President Donald T...</td>\n",
       "      <td>6015</td>\n",
       "    </tr>\n",
       "    <tr>\n",
       "      <th>2</th>\n",
       "      <td>2</td>\n",
       "      <td>6/22/2020</td>\n",
       "      <td>b'Trump Admin Suspends Certain Visas Through E...</td>\n",
       "      <td>NaN</td>\n",
       "      <td>The Trump administration announced Monday that...</td>\n",
       "      <td>The Daily Caller</td>\n",
       "      <td>Right</td>\n",
       "      <td>b'Trump To Suspend Visas Through End Of The Ye...</td>\n",
       "      <td>https://dailycaller.com/2020/06/22/exclusive-t...</td>\n",
       "      <td>President Donald Trump will sign an executive ...</td>\n",
       "      <td>1954</td>\n",
       "    </tr>\n",
       "    <tr>\n",
       "      <th>3</th>\n",
       "      <td>3</td>\n",
       "      <td>4/24/2020</td>\n",
       "      <td>b'Perspectives Trump s Immigration Executive O...</td>\n",
       "      <td>Ted Hesson, Min Read</td>\n",
       "      <td>President Donald Trump's executive order suspe...</td>\n",
       "      <td>Reuters</td>\n",
       "      <td>Center</td>\n",
       "      <td>b\"Inside Trump's proposal to suspend some lega...</td>\n",
       "      <td>https://af.reuters.com/article/worldNews/idAFK...</td>\n",
       "      <td>WASHINGTON (Reuters) - President Donald Trump ...</td>\n",
       "      <td>5310</td>\n",
       "    </tr>\n",
       "    <tr>\n",
       "      <th>4</th>\n",
       "      <td>4</td>\n",
       "      <td>4/24/2020</td>\n",
       "      <td>b'Perspectives Trump s Immigration Executive O...</td>\n",
       "      <td>Opinion Rafia Zakaria</td>\n",
       "      <td>President Donald Trump's executive order suspe...</td>\n",
       "      <td>CNN - Editorial</td>\n",
       "      <td>Left</td>\n",
       "      <td>b\"Trump's moves on immigration reveal his true...</td>\n",
       "      <td>https://www.cnn.com/2020/04/22/opinions/trump-...</td>\n",
       "      <td>Rafia Zakaria is the author of \" The Upstairs ...</td>\n",
       "      <td>8191</td>\n",
       "    </tr>\n",
       "  </tbody>\n",
       "</table>\n",
       "</div>"
      ],
      "text/plain": [
       "   id       date                                      main_headline  \\\n",
       "0   0  6/22/2020  b'Trump Admin Suspends Certain Visas Through E...   \n",
       "1   1  6/22/2020  b'Trump Admin Suspends Certain Visas Through E...   \n",
       "2   2  6/22/2020  b'Trump Admin Suspends Certain Visas Through E...   \n",
       "3   3  4/24/2020  b'Perspectives Trump s Immigration Executive O...   \n",
       "4   4  4/24/2020  b'Perspectives Trump s Immigration Executive O...   \n",
       "\n",
       "                                             authors  \\\n",
       "0  Hamed Aleaziz, Jeremy Singer-Vine, Adolfo Flor...   \n",
       "1                               Ted Hesson, Min Read   \n",
       "2                                                NaN   \n",
       "3                               Ted Hesson, Min Read   \n",
       "4                              Opinion Rafia Zakaria   \n",
       "\n",
       "                                         description            source  \\\n",
       "0  The Trump administration announced Monday that...     BuzzFeed News   \n",
       "1  The Trump administration announced Monday that...           Reuters   \n",
       "2  The Trump administration announced Monday that...  The Daily Caller   \n",
       "3  President Donald Trump's executive order suspe...           Reuters   \n",
       "4  President Donald Trump's executive order suspe...   CNN - Editorial   \n",
       "\n",
       "     bias                                           headline  \\\n",
       "0    Left  b'Trump Is Suspending Certain Visas For Foreig...   \n",
       "1  Center  b'Trump to suspend entry of certain foreign wo...   \n",
       "2   Right  b'Trump To Suspend Visas Through End Of The Ye...   \n",
       "3  Center  b\"Inside Trump's proposal to suspend some lega...   \n",
       "4    Left  b\"Trump's moves on immigration reveal his true...   \n",
       "\n",
       "                                                link  \\\n",
       "0  https://www.buzzfeednews.com/article/adolfoflo...   \n",
       "1  https://www.reuters.com/article/us-usa-immigra...   \n",
       "2  https://dailycaller.com/2020/06/22/exclusive-t...   \n",
       "3  https://af.reuters.com/article/worldNews/idAFK...   \n",
       "4  https://www.cnn.com/2020/04/22/opinions/trump-...   \n",
       "\n",
       "                                                text  text_len  \n",
       "0  BuzzFeed News has reporters around the world b...      3358  \n",
       "1  WASHINGTON (Reuters) - U.S. President Donald T...      6015  \n",
       "2  President Donald Trump will sign an executive ...      1954  \n",
       "3  WASHINGTON (Reuters) - President Donald Trump ...      5310  \n",
       "4  Rafia Zakaria is the author of \" The Upstairs ...      8191  "
      ]
     },
     "execution_count": 20,
     "metadata": {},
     "output_type": "execute_result"
    }
   ],
   "source": [
    "df = pd.read_csv('./news-corpus-df.csv')\n",
    "print(df.shape)\n",
    "# make a column id for each row and make it the first column\n",
    "df.insert(0, 'id', range(0, len(df)))\n",
    "df.head()"
   ]
  },
  {
   "cell_type": "code",
   "execution_count": 5,
   "metadata": {},
   "outputs": [
    {
     "name": "stdout",
     "output_type": "stream",
     "text": [
      "President Trump won two victories on his border agenda Friday, with the Supreme Court allowing the use of military funds to expand the barrier on the Mexican border while Guatemala agreed to serve as gatekeeper for asylum seekers trying to get to the U.S.\n",
      "In a 5-4 decision, the justices of the U.S. high court said President Trump can shift about $2.5 billion in military funds to construct an additional 100 miles of wall at the U.S.-Mexico border in an effort to seal off the U.S. from illegal immigration.\n",
      "...\n"
     ]
    }
   ],
   "source": [
    "example = df['text'][50]\n",
    "print(example)"
   ]
  },
  {
   "cell_type": "code",
   "execution_count": 6,
   "metadata": {},
   "outputs": [
    {
     "data": {
      "text/plain": [
       "['President',\n",
       " 'Trump',\n",
       " 'won',\n",
       " 'two',\n",
       " 'victories',\n",
       " 'on',\n",
       " 'his',\n",
       " 'border',\n",
       " 'agenda',\n",
       " 'Friday']"
      ]
     },
     "execution_count": 6,
     "metadata": {},
     "output_type": "execute_result"
    }
   ],
   "source": [
    "tokens = nltk.word_tokenize(example)\n",
    "tokens[:10]"
   ]
  },
  {
   "cell_type": "code",
   "execution_count": 9,
   "metadata": {},
   "outputs": [
    {
     "name": "stderr",
     "output_type": "stream",
     "text": [
      "[nltk_data] Downloading package vader_lexicon to\n",
      "[nltk_data]     /Users/emilyguan/nltk_data...\n"
     ]
    },
    {
     "data": {
      "text/plain": [
       "True"
      ]
     },
     "execution_count": 9,
     "metadata": {},
     "output_type": "execute_result"
    }
   ],
   "source": [
    "import nltk\n",
    "nltk.download('vader_lexicon')"
   ]
  },
  {
   "cell_type": "code",
   "execution_count": 12,
   "metadata": {},
   "outputs": [],
   "source": [
    "from nltk.sentiment import SentimentIntensityAnalyzer\n",
    "from tqdm.notebook import tqdm\n",
    "\n",
    "sia = SentimentIntensityAnalyzer()"
   ]
  },
  {
   "cell_type": "code",
   "execution_count": 14,
   "metadata": {},
   "outputs": [
    {
     "name": "stdout",
     "output_type": "stream",
     "text": [
      "{'neg': 0.0, 'neu': 0.318, 'pos': 0.682, 'compound': 0.6468}\n",
      "{'neg': 0.451, 'neu': 0.549, 'pos': 0.0, 'compound': -0.6249}\n"
     ]
    },
    {
     "data": {
      "text/plain": [
       "{'neg': 0.051, 'neu': 0.832, 'pos': 0.117, 'compound': 0.765}"
      ]
     },
     "execution_count": 14,
     "metadata": {},
     "output_type": "execute_result"
    }
   ],
   "source": [
    "print(sia.polarity_scores('I am so happy!')) # Return a float for sentiment strength based on the input text\n",
    "print(sia.polarity_scores('This is the worst thing ever.'))\n",
    "sia.polarity_scores(example)"
   ]
  },
  {
   "cell_type": "code",
   "execution_count": 16,
   "metadata": {},
   "outputs": [
    {
     "data": {
      "application/vnd.jupyter.widget-view+json": {
       "model_id": "57f37dc9ab8a4a7299160d5a9b4ea4b2",
       "version_major": 2,
       "version_minor": 0
      },
      "text/plain": [
       "  0%|          | 0/260 [00:00<?, ?it/s]"
      ]
     },
     "metadata": {},
     "output_type": "display_data"
    }
   ],
   "source": [
    "# Run the polarity score on the entire dataset\n",
    "res = {}\n",
    "for i, row in tqdm(df.iterrows(), total=len(df)):\n",
    "    text = row['text']\n",
    "    # todo: split text to analyze word position, content\n",
    "\n",
    "    res[i] = sia.polarity_scores(text)"
   ]
  },
  {
   "cell_type": "code",
   "execution_count": 21,
   "metadata": {},
   "outputs": [
    {
     "data": {
      "text/html": [
       "<div>\n",
       "<style scoped>\n",
       "    .dataframe tbody tr th:only-of-type {\n",
       "        vertical-align: middle;\n",
       "    }\n",
       "\n",
       "    .dataframe tbody tr th {\n",
       "        vertical-align: top;\n",
       "    }\n",
       "\n",
       "    .dataframe thead th {\n",
       "        text-align: right;\n",
       "    }\n",
       "</style>\n",
       "<table border=\"1\" class=\"dataframe\">\n",
       "  <thead>\n",
       "    <tr style=\"text-align: right;\">\n",
       "      <th></th>\n",
       "      <th>id</th>\n",
       "      <th>neg</th>\n",
       "      <th>neu</th>\n",
       "      <th>pos</th>\n",
       "      <th>compound</th>\n",
       "      <th>date</th>\n",
       "      <th>main_headline</th>\n",
       "      <th>authors</th>\n",
       "      <th>description</th>\n",
       "      <th>source</th>\n",
       "      <th>bias</th>\n",
       "      <th>headline</th>\n",
       "      <th>link</th>\n",
       "      <th>text</th>\n",
       "      <th>text_len</th>\n",
       "    </tr>\n",
       "  </thead>\n",
       "  <tbody>\n",
       "    <tr>\n",
       "      <th>0</th>\n",
       "      <td>0</td>\n",
       "      <td>0.076</td>\n",
       "      <td>0.862</td>\n",
       "      <td>0.062</td>\n",
       "      <td>-0.9362</td>\n",
       "      <td>6/22/2020</td>\n",
       "      <td>b'Trump Admin Suspends Certain Visas Through E...</td>\n",
       "      <td>Hamed Aleaziz, Jeremy Singer-Vine, Adolfo Flor...</td>\n",
       "      <td>The Trump administration announced Monday that...</td>\n",
       "      <td>BuzzFeed News</td>\n",
       "      <td>Left</td>\n",
       "      <td>b'Trump Is Suspending Certain Visas For Foreig...</td>\n",
       "      <td>https://www.buzzfeednews.com/article/adolfoflo...</td>\n",
       "      <td>BuzzFeed News has reporters around the world b...</td>\n",
       "      <td>3358</td>\n",
       "    </tr>\n",
       "    <tr>\n",
       "      <th>1</th>\n",
       "      <td>1</td>\n",
       "      <td>0.067</td>\n",
       "      <td>0.873</td>\n",
       "      <td>0.060</td>\n",
       "      <td>-0.8376</td>\n",
       "      <td>6/22/2020</td>\n",
       "      <td>b'Trump Admin Suspends Certain Visas Through E...</td>\n",
       "      <td>Ted Hesson, Min Read</td>\n",
       "      <td>The Trump administration announced Monday that...</td>\n",
       "      <td>Reuters</td>\n",
       "      <td>Center</td>\n",
       "      <td>b'Trump to suspend entry of certain foreign wo...</td>\n",
       "      <td>https://www.reuters.com/article/us-usa-immigra...</td>\n",
       "      <td>WASHINGTON (Reuters) - U.S. President Donald T...</td>\n",
       "      <td>6015</td>\n",
       "    </tr>\n",
       "    <tr>\n",
       "      <th>2</th>\n",
       "      <td>2</td>\n",
       "      <td>0.076</td>\n",
       "      <td>0.817</td>\n",
       "      <td>0.107</td>\n",
       "      <td>0.7531</td>\n",
       "      <td>6/22/2020</td>\n",
       "      <td>b'Trump Admin Suspends Certain Visas Through E...</td>\n",
       "      <td>NaN</td>\n",
       "      <td>The Trump administration announced Monday that...</td>\n",
       "      <td>The Daily Caller</td>\n",
       "      <td>Right</td>\n",
       "      <td>b'Trump To Suspend Visas Through End Of The Ye...</td>\n",
       "      <td>https://dailycaller.com/2020/06/22/exclusive-t...</td>\n",
       "      <td>President Donald Trump will sign an executive ...</td>\n",
       "      <td>1954</td>\n",
       "    </tr>\n",
       "    <tr>\n",
       "      <th>3</th>\n",
       "      <td>3</td>\n",
       "      <td>0.065</td>\n",
       "      <td>0.819</td>\n",
       "      <td>0.116</td>\n",
       "      <td>0.9886</td>\n",
       "      <td>4/24/2020</td>\n",
       "      <td>b'Perspectives Trump s Immigration Executive O...</td>\n",
       "      <td>Ted Hesson, Min Read</td>\n",
       "      <td>President Donald Trump's executive order suspe...</td>\n",
       "      <td>Reuters</td>\n",
       "      <td>Center</td>\n",
       "      <td>b\"Inside Trump's proposal to suspend some lega...</td>\n",
       "      <td>https://af.reuters.com/article/worldNews/idAFK...</td>\n",
       "      <td>WASHINGTON (Reuters) - President Donald Trump ...</td>\n",
       "      <td>5310</td>\n",
       "    </tr>\n",
       "    <tr>\n",
       "      <th>4</th>\n",
       "      <td>4</td>\n",
       "      <td>0.085</td>\n",
       "      <td>0.818</td>\n",
       "      <td>0.097</td>\n",
       "      <td>0.9478</td>\n",
       "      <td>4/24/2020</td>\n",
       "      <td>b'Perspectives Trump s Immigration Executive O...</td>\n",
       "      <td>Opinion Rafia Zakaria</td>\n",
       "      <td>President Donald Trump's executive order suspe...</td>\n",
       "      <td>CNN - Editorial</td>\n",
       "      <td>Left</td>\n",
       "      <td>b\"Trump's moves on immigration reveal his true...</td>\n",
       "      <td>https://www.cnn.com/2020/04/22/opinions/trump-...</td>\n",
       "      <td>Rafia Zakaria is the author of \" The Upstairs ...</td>\n",
       "      <td>8191</td>\n",
       "    </tr>\n",
       "  </tbody>\n",
       "</table>\n",
       "</div>"
      ],
      "text/plain": [
       "   id    neg    neu    pos  compound       date  \\\n",
       "0   0  0.076  0.862  0.062   -0.9362  6/22/2020   \n",
       "1   1  0.067  0.873  0.060   -0.8376  6/22/2020   \n",
       "2   2  0.076  0.817  0.107    0.7531  6/22/2020   \n",
       "3   3  0.065  0.819  0.116    0.9886  4/24/2020   \n",
       "4   4  0.085  0.818  0.097    0.9478  4/24/2020   \n",
       "\n",
       "                                       main_headline  \\\n",
       "0  b'Trump Admin Suspends Certain Visas Through E...   \n",
       "1  b'Trump Admin Suspends Certain Visas Through E...   \n",
       "2  b'Trump Admin Suspends Certain Visas Through E...   \n",
       "3  b'Perspectives Trump s Immigration Executive O...   \n",
       "4  b'Perspectives Trump s Immigration Executive O...   \n",
       "\n",
       "                                             authors  \\\n",
       "0  Hamed Aleaziz, Jeremy Singer-Vine, Adolfo Flor...   \n",
       "1                               Ted Hesson, Min Read   \n",
       "2                                                NaN   \n",
       "3                               Ted Hesson, Min Read   \n",
       "4                              Opinion Rafia Zakaria   \n",
       "\n",
       "                                         description            source  \\\n",
       "0  The Trump administration announced Monday that...     BuzzFeed News   \n",
       "1  The Trump administration announced Monday that...           Reuters   \n",
       "2  The Trump administration announced Monday that...  The Daily Caller   \n",
       "3  President Donald Trump's executive order suspe...           Reuters   \n",
       "4  President Donald Trump's executive order suspe...   CNN - Editorial   \n",
       "\n",
       "     bias                                           headline  \\\n",
       "0    Left  b'Trump Is Suspending Certain Visas For Foreig...   \n",
       "1  Center  b'Trump to suspend entry of certain foreign wo...   \n",
       "2   Right  b'Trump To Suspend Visas Through End Of The Ye...   \n",
       "3  Center  b\"Inside Trump's proposal to suspend some lega...   \n",
       "4    Left  b\"Trump's moves on immigration reveal his true...   \n",
       "\n",
       "                                                link  \\\n",
       "0  https://www.buzzfeednews.com/article/adolfoflo...   \n",
       "1  https://www.reuters.com/article/us-usa-immigra...   \n",
       "2  https://dailycaller.com/2020/06/22/exclusive-t...   \n",
       "3  https://af.reuters.com/article/worldNews/idAFK...   \n",
       "4  https://www.cnn.com/2020/04/22/opinions/trump-...   \n",
       "\n",
       "                                                text  text_len  \n",
       "0  BuzzFeed News has reporters around the world b...      3358  \n",
       "1  WASHINGTON (Reuters) - U.S. President Donald T...      6015  \n",
       "2  President Donald Trump will sign an executive ...      1954  \n",
       "3  WASHINGTON (Reuters) - President Donald Trump ...      5310  \n",
       "4  Rafia Zakaria is the author of \" The Upstairs ...      8191  "
      ]
     },
     "execution_count": 21,
     "metadata": {},
     "output_type": "execute_result"
    }
   ],
   "source": [
    "vaders = pd.DataFrame(res).T\n",
    "vaders = vaders.reset_index().rename(columns={'index': 'id'})\n",
    "vaders = vaders.merge(df, how='left')\n",
    "vaders.head()"
   ]
  },
  {
   "cell_type": "code",
   "execution_count": 23,
   "metadata": {},
   "outputs": [
    {
     "data": {
      "image/png": "[encoded data removed]",
      "text/plain": [
       "<Figure size 640x480 with 1 Axes>"
      ]
     },
     "metadata": {},
     "output_type": "display_data"
    }
   ],
   "source": [
    "# histogram of compound ranges\n",
    "vaders['compound'].hist(bins=20)\n",
    "plt.show()\n"
   ]
  },
  {
   "cell_type": "markdown",
   "metadata": {},
   "source": [
    "# Roberta pretrained transformer"
   ]
  },
  {
   "cell_type": "code",
   "execution_count": 24,
   "metadata": {},
   "outputs": [
    {
     "ename": "ModuleNotFoundError",
     "evalue": "No module named 'transformers'",
     "output_type": "error",
     "traceback": [
      "\u001b[0;31m---------------------------------------------------------------------------\u001b[0m",
      "\u001b[0;31mModuleNotFoundError\u001b[0m                       Traceback (most recent call last)",
      "Cell \u001b[0;32mIn[24], line 1\u001b[0m\n\u001b[0;32m----> 1\u001b[0m \u001b[38;5;28;01mfrom\u001b[39;00m \u001b[38;5;21;01mtransformers\u001b[39;00m \u001b[38;5;28;01mimport\u001b[39;00m AutoTokenizer\n\u001b[1;32m      2\u001b[0m \u001b[38;5;28;01mfrom\u001b[39;00m \u001b[38;5;21;01mtransformers\u001b[39;00m \u001b[38;5;28;01mimport\u001b[39;00m AutoModelForSequenceClassification\n\u001b[1;32m      3\u001b[0m \u001b[38;5;28;01mfrom\u001b[39;00m \u001b[38;5;21;01mscipy\u001b[39;00m\u001b[38;5;21;01m.\u001b[39;00m\u001b[38;5;21;01mspecial\u001b[39;00m \u001b[38;5;28;01mimport\u001b[39;00m softmax\n",
      "\u001b[0;31mModuleNotFoundError\u001b[0m: No module named 'transformers'"
     ]
    }
   ],
   "source": [
    "from transformers import AutoTokenizer\n",
    "from transformers import AutoModelForSequenceClassification\n",
    "from scipy.special import softmax"
   ]
  },
  {
   "cell_type": "code",
   "execution_count": null,
   "metadata": {},
   "outputs": [],
   "source": []
  }
 ],
 "metadata": {
  "kernelspec": {
   "display_name": "Python 3",
   "language": "python",
   "name": "python3"
  },
  "language_info": {
   "codemirror_mode": {
    "name": "ipython",
    "version": 3
   },
   "file_extension": ".py",
   "mimetype": "text/x-python",
   "name": "python",
   "nbconvert_exporter": "python",
   "pygments_lexer": "ipython3",
   "version": "3.9.7"
  }
 },
 "nbformat": 4,
 "nbformat_minor": 2
}
