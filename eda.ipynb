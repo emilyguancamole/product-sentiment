{
 "cells": [
  {
   "cell_type": "markdown",
   "metadata": {},
   "source": [
    "# EDA of Review Data"
   ]
  },
  {
   "cell_type": "code",
   "execution_count": 2,
   "metadata": {},
   "outputs": [
    {
     "name": "stderr",
     "output_type": "stream",
     "text": [
      "/Users/emilyguan/miniforge3/envs/ir2024/lib/python3.11/site-packages/tqdm/auto.py:21: TqdmWarning: IProgress not found. Please update jupyter and ipywidgets. See https://ipywidgets.readthedocs.io/en/stable/user_install.html\n",
      "  from .autonotebook import tqdm as notebook_tqdm\n"
     ]
    }
   ],
   "source": [
    "import pandas as pd\n",
    "import numpy as np\n",
    "import matplotlib.pyplot as plt\n",
    "from datasets import load_dataset"
   ]
  },
  {
   "cell_type": "code",
   "execution_count": 3,
   "metadata": {},
   "outputs": [],
   "source": [
    "def get_basic_info(review_dataset, meta_dataset):\n",
    "    '''@param review_dataset, meta_dataset: type 'datasets.arrow_dataset.Dataset'''\n",
    "    print(f\"Tot number of reviews\", len(review_dataset))\n",
    "    print(\"Columns in metadata:\", meta_dataset.column_names)\n",
    "\n",
    "    categories_col = meta_dataset['categories']\n",
    "    all_categories = [category for sublist in categories_col for category in sublist]\n",
    "    unique_categories_set = set(all_categories)\n",
    "    print(\"Number of categories:\", len(unique_categories_set))\n",
    "    print(\"Unique categories:\", unique_categories_set)"
   ]
  },
  {
   "cell_type": "code",
   "execution_count": 4,
   "metadata": {},
   "outputs": [
    {
     "name": "stdout",
     "output_type": "stream",
     "text": [
      "Tot number of reviews 664162\n",
      "Columns in metadata: ['main_category', 'title', 'average_rating', 'rating_number', 'features', 'description', 'price', 'images', 'videos', 'store', 'categories', 'details', 'parent_asin', 'bought_together', 'subtitle', 'author']\n",
      "Number of categories: 646\n",
      "Unique categories: {'Terrariums', 'Featured Artisans', 'Eau de Parfum', 'Toe Rings', 'Bowls', 'Bath & Bathing Accessories', 'Barbells', 'Baby Girls', 'Storage Boxes & Chests', 'Bracelets', 'Outdoor Décor', 'Body Jewelry', 'Two Pieces', 'Beds & Furniture', 'Photo Albums', 'Cloths & Sponges', 'Patio, Lawn & Garden', 'Garters', 'Charm', 'Cupcake Wrappers', 'Jewelry', 'Keychains & Keyrings', 'Sleeves', 'Pacifiers & Teethers', 'Lighting', 'Grave Markers', 'Home Bar Furniture', 'Travel Accessories', 'Kids & Baby Gifts', 'Shoes', 'Glassware', 'Bedside & Table Lamps', 'Decorative Stones', 'Bottle Stoppers', 'Bedroom Furniture', 'Beer Glasses', 'Pet Collars', 'Tunics', 'Bottoms', 'Baby Boys', 'Dolls, Toy Figures & Accessories', 'Magnets', 'Prints', 'Memorials & Urns', 'Blankets & Swaddling', 'New Jersey', 'Solitaire', 'Faux Jewelry', 'Stud', 'Swimwear', 'Napkin Rings', 'Bags, Cases & Sleeves', 'Ear Cuff', 'Tapestries', 'Skins & Decals', 'Wall Stickers', 'Doormats', 'Pins', 'Notecards & Greeting Cards', 'Indiana', 'Fragrance', 'Nursing & Feeding', 'California', 'Books & Journals', 'Colorado', 'Beauty & Grooming', 'Napkins', 'Side Combs', 'Cosmetic Bags', 'Chairs', 'Skin Care', 'Home Storage Hooks', 'Slippers', 'Sponges & Scouring Pads', 'Chimes', 'Kitchen Utensils & Tools', 'Curtains, Blinds & Shutters', 'Photo Albums & Frames', 'Confetti', 'Handmade: Last Minute Gifts 2-7 days', 'Planters & Boxes', 'Mobiles', 'Sculptures', 'Feet, Hand & Nail Tools', 'Walking Sticks', 'Home Décor', 'Garden Sculptures & Statues', 'Satchels', 'Bib & Burp Cloth Sets', 'Men', 'Feeding & Watering Supplies', \"Children's Room Décor\", 'Handmade_Prime_Test', 'Pails, Liners & Bags', 'Spoon Rests', 'Backyard Birding', 'Hair Ties & Elastics', 'Gift Tags', 'Music Boxes', 'Gloves & Mittens', 'HM-Curation', 'Coats', 'Coffee Tables', 'Sun Catchers', 'Sweater Clips', 'Messenger & Shoulder Bags', 'Holiday Decor', 'Artificial Flora', 'Pants', 'Baskets', 'Quilts & Bed Covers', 'Pacific FBA - Jewelry', 'Women', 'Paper', 'Ring Cushions', 'Pens & Pencils', 'Stamps', 'Wallets & Bag Accessories', 'Memo Boards', 'Crates & Kennels', 'Belts', 'Pretend Play', 'Ring Boxes', 'Place Cards', 'Beard Conditioners & Oils', 'Leggings', 'Bun Shapers', 'Diapers & Training Pants', 'Bathroom Cups', 'Cell Phone Accessories', 'Luggage Straps', 'Decals', 'Neck Pouches', 'Barware', 'Lariat & Y', 'T-Shirts', 'Body', 'Bottle Openers', 'Sheets & Pillowcases', 'Garden Stakes', 'Ohio', 'Baskets & Bins', 'Home & Kitchen', 'Wall Calendars', 'Conditioner', 'Beanies', 'Lanyards', 'Nails', 'Knives & Accessories', 'Flats', 'Lamps', 'Midwest States', 'Neckties', 'Bras', 'Made in Texas', 'Body Chains', 'Shot Glasses', 'Rocky Mountain States', 'Chains & Straps', 'Towel Racks', 'Holiday ASINs', 'Bath Linen', 'Jars', 'Champagne Glasses', 'Tools & Accessories', 'Balms & Moisturizers', 'North Carolina', 'Martini Glasses', 'Plates', 'Paintings', 'Pillows', 'Cufflinks', \"Children's Furniture\", 'Handles', 'Rings', 'Beard & Mustache Care', 'Cocktail Glasses', 'Cuff', 'Totes', 'Southwest States', 'Tights', 'Lightswitch Plates', 'Handmade Products', 'Home Office Furniture', 'Knives', 'Creams', 'Nursery Décor', 'Wedding Dress Hangers', 'Makeup', 'Jewelry Boxes', 'Shirts', 'Northeast FBA', 'Teapots', 'Midwest FBA', 'Wreaths', 'Band', 'Mopping', 'Kitchen & Dining Room Furniture', 'Cases', 'Vases', 'Necklaces', 'Charms', 'Garlands & Decorative Banners', 'Boots', 'Shaving & Grooming Sets', 'Breastfeeding', 'Fishing', 'Placemats', 'Birthday', 'Wall Pediments', 'Mouse Pads', 'Handmade Gifts Under $25', 'Kitchen Essentials for Mom', 'Posters', 'Alabama', 'Deodorants & Antiperspirants', 'Tie Pins', 'Fitness Tracker Bands & Straps', 'Button Down Shirts', 'Pacifiers', 'Carriers', 'Nursery', 'Moisturizers', 'Skirts', 'Wallet Inserts', 'Learning & Education', 'Lamp Shades', 'Trivets', 'Shawls', 'Pouches', 'Handmade Small Business Promotion', 'Money Banks', 'Wreath Bows & Accessories', 'Diaper Bags', 'Lotions', 'Texas', 'Clothing & Wardrobe Storage', 'Hair & Scalp Care', 'Link', 'Beard & Mustache Combs', 'Electronics Accessories', 'Arkansas', 'Anklets', 'Wine Glass Charms', 'Georgia', 'Gifts for the Chef', 'Collars', 'Dish Cloths & Towels', 'Virginia', 'Stickers', 'Clocks', 'Survival Bracelets', 'Earrings', 'Luggage Tags', 'Pillows, Covers & Protectors', 'Storage & Organization', 'Hitch Covers', 'Sneakers & Athletic Shoes', 'Fedoras & Trilby Hats', 'Body Sprays', 'Sheaths', 'Health, Bathing & Skin Care', 'Paperless Towels', 'Gauges & Plugs', 'Face Masks', 'Hard Case Shells', 'Bandanas', 'Wall Letters & Numbers', 'Lipstick', 'Travel Mugs', 'Earmuffs', 'Christmas Tree Toppers', 'Yard Signs', 'Feet, Hands & Nails', 'Face', 'Southwest FBA', 'South Carolina', 'Spoons', 'Bakeware Molds & Pans', 'Bookcases', 'Southeast MFN', 'Mirrors & Magnifiers', 'Ceiling Lighting', 'Kitchen & Dining', 'Bath Bombs', 'Boxes', 'Signet', 'Lips', 'Magazine Pouches', 'Prayer & Meditation Beads', 'Framed Pictures', 'Minerals & Salts', 'Blouses & Shirts', 'Sofa Tables', 'Scarves & Wraps', 'Gun Accessories', 'Neckerchiefs', 'Clothing', 'Gift Wrapping Paper', 'Rocky Mountain FBA', 'Accessories', 'Sashes', 'Handmade Small Business Promotion - Jewelry', 'Cups, Mugs & Saucers', 'Mississippi', 'Nursery Furniture', 'Pumps', 'Teethers', 'Flatware', 'Kitchen Cozies', 'Doorstops', 'Hair Extensions & Wigs', 'Sporting Goods', 'Messenger Bags', 'Key & Identification Accessories', 'Kitchen Linen', 'Jewelry for Mom', 'Pendant', 'Duvets & Duvet Covers', 'Cutting Boards', 'Dishes & Bowls', 'Coin Purses & Pouches', 'Camera & Photo Accessories', 'Toys', 'Lawn & Playground', 'Baby', 'Shampoo', 'Wall Lighting Fixtures', 'BBQ', 'Musical Toy Instruments', 'Loafers & Slip-Ons', 'Christmas Tree Skirts', 'Bedding', 'Camping & Hiking', 'Tableware', 'Desk Lamps', 'Belts, Holsters & Slings', 'Tops & Tees', 'Bow Ties', 'Napkins & Napkin Rings', 'Candles & Holders', 'Treats', 'Hats & Caps', 'Cycling', 'Sports & Outdoors', 'Balls & Accessories', 'Insoles & Shoe Accessories', 'Sandals', 'Arm Warmers', 'ID Tags & Collar Accessories', 'Home Entertainment Furniture', 'Playard Bedding', 'Racks & Shelves', 'Shower Curtains', 'Diaper Changing', 'Nursery Bedding', 'Ceremony Programs', 'Scrubs & Body Treatments', 'Blankets & Quilts', 'Christmas Stocking Holders', 'Magnets & Magnetic Toys', 'Bangle', 'Hand Chain', 'Figurines', 'Hair Care', 'Golf Cart Seats & Covers', 'Dishware & Serveware', 'Gift Baskets', 'Archery', 'Oils', 'Cake Toppers', 'Cover-Ups & Sarongs', 'Choker', 'Dishwashing', 'Chain', 'Eyes', 'Picture Frames', 'Essential Oils', 'Barefoot Sandals', 'Portraits', 'Cupcake Toppers', 'Patriotic Picks', 'Shaving Accessories', 'Luggage & Travel Gear', 'Money Clips', 'Markers', 'Umbrellas', 'Temporary Tattoos', 'Soaps', 'Southeast States', 'Wallet Chains', 'Cross-Body Bags', 'Night Lights & Night Light Covers', 'Rocky MFN - Jewelry', 'Statement', 'Illinois', 'Handmade Gift Shop', 'Collar Stays', 'Bags', 'Wristlets', 'Threader', 'Novelty & Gag Toys', 'Drop & Dangle', 'Eyewear & Accessories', 'Boys', 'Christmas Stockings & Holders', 'Party Supplies', 'Tumblers', 'Grips', 'Handbags & Shoulder Bags', 'Tiles', 'Wall Mounts', 'Collars, Leashes & Accessories', 'Socks, Tights & Leg Warmers', 'Gifts', 'Bodysuits, Footies & Rompers', 'Handbags & Accessories', 'Briefcases', 'Bridal Sets', 'Party Favors', 'Collars, Harnesses & Leashes', 'Arm Warmers & Muffs', 'Bathroom Accessories', 'Sweaters & Hoodies', 'Badge Clips & Reels', 'Christmas Stockings', 'Prime-eligible products', 'Beauty & Spa Gifts for Mom', 'Skateboarding', 'Wellness & Relaxation', 'Last minute gifts', 'Pendant Lamps', 'Handkerchiefs', 'Laundry Detergent', 'Fire Starters', 'Tables', 'Aprons', 'Wedding & Engagement', 'Passport Covers & Wallets', 'Burp Cloths', 'Ties', 'Midi', 'Backpack Handbags', 'Hoodies & Sweatshirts', 'Luggage', 'Bathing Accessories', 'Baseball Caps', 'Styling Products', 'Creams & Moisturizers', 'Housebreaking', 'Wedding Curation GMS T-12', 'Centerpieces', 'Northeast MFN', 'Bed Pillows', 'Flasks', 'Louisiana', 'Panties', 'Handmade Shop Local', 'Drawings', 'Wall Crosses', 'Table Runners', 'Pashminas', 'Cufflinks & Shirt Accessories', 'Laptop Accessories', 'Decorative Shoe Clips', 'Wine Glasses', 'Door Straps & Grab Handles', 'Living Room Furniture', 'Cowboy Hats', 'Appointment Books & Planners', 'Storage Bins', 'Pajama Sets', 'Golf', 'Headbands', 'Bibs & Burp Cloths', 'Throw Pillows', 'Decorations', 'Health & Personal Care', 'Decorative Accessories', 'Kitchen Knives', 'Sweaters, Cardigans & Vests', 'Body Washes', 'Display Stands', 'Menu Cards', 'Cleaning Supplies', 'Hanging Planters', 'Table Numbers', 'Hoops', 'Pots, Planters & Container Accessories', 'Home Fragrance', 'Slipcovers', 'Serving Dishes', 'Dogs', 'Strand', 'Hallway Furniture', 'Razors & Blades', 'Stretch', 'Guestbooks', \"Valentine's Day Gifts\", 'Pet Supplies', 'Girls', 'Aisle Runners', 'Puppets', 'Bed Blankets', 'Penguins and Polar Bears', 'Clutches', 'Outdoor Lighting', 'Bakeware', 'Height Charts', 'Pacifier Accessories', 'Stationery & Party Supplies', 'Cups', 'Lighters', 'Footstools & Ottomans', 'Key Cases', 'Light Switch Decorations', 'Florida', 'Mixed Media', 'Dryer Balls', 'Cats', 'Cookware', 'Belt Buckles', 'Tiaras', 'Wedding', 'Piercing Jewelry', 'Treatments & Masks', 'Shaving Creams, Lotions & Gels', 'Midwest FBA - Jewelry', 'Computer Accessories', 'Arizona', 'Hair Styling Accessories', 'Tank Tops', 'Harnesses', 'Crib Bedding', 'Labels', 'Outerwear', 'Hoop', 'Neckwear', 'Clips & Barrettes', 'Laundry', 'Boot Bracelets', 'Bath', 'Scarves', 'Home Décor Gifts for Mom', 'Scrubs', 'Buttons', 'Studs', 'Forks', 'Anniversary', 'Tie Clips', 'End Tables', 'Artwork', 'Toys & Games', \"Mother's Day Gifts\", 'Fanny Packs', 'Pacific States', 'Costumes', 'Shaving & Hair Removal', 'Robes', 'Prescription Eyewear Frames', 'Bibs', 'Sun Hats', 'Face Serums', 'Pacific MFN - Jewelry', 'Lip Care', 'Body Butter', 'Boxes & Organizers', 'Ring Cones & Holders', 'Pillow Protectors', 'Toiletry Bags', 'Northeast States', 'Bag Organizers', 'Ear Climbers & Jackets', 'Car & Vehicle Accessories', 'Sleepwear, Lingerie & Underwear', 'Schoolbags & Backpacks', 'Sweaters, Cardigans & Capes', 'New York', 'Aftershaves', 'Cleaning Tools', 'Mirrors', 'Signs & Plaques', 'Cake Carriers', 'Clothing Sets', 'Sleepwear & Robes', 'Puzzles', 'Storage Bags', 'Axes', 'Engagement', 'Wrist Rests', 'Wind Sculptures & Spinners', 'Card Cases', 'Bath Additives', 'Back & Body Supports', 'Stained Glass Panels', 'Containers & Storage', 'Brooches', 'Cigarette Cases', 'Mugs', 'Ornaments', 'Beds', 'Purse Hangers & Hooks', 'Bolo', 'Shampoo & Conditioner', 'Serving Utensils', 'Tablecloths', 'Lingerie', 'Pillowcases', 'Bedspreads & Coverlets', 'Stationery', 'Pottery', 'One Pieces', 'Invitations', 'Bean Bag Chairs', 'Jewelry Sets', 'Tees & Tee Holders', 'Flower Pots', 'Cleansers', 'Lingerie Sets', 'Yoga', 'Watches', 'Southeast FBA', 'Personal Care', 'Sets & Kits', 'Coasters', 'Southwest MFN', 'Furniture', 'Hair Pins', 'Wrap', 'Hunting & Shooting', 'Brooches, Buttons & Pins', 'Dresses', 'Visors', 'Cologne', 'Baby & Toddler Toys', 'Socks', 'Clothing, Shoes & Accessories', 'Shorts', 'Undergarments', 'Bathroom Fixtures', 'Bib', 'Photographs', 'Plushies & Stuffed Animals', 'Apparel & Accessories', 'Stacking', 'Sports & Fitness'}\n"
     ]
    }
   ],
   "source": [
    "handmade_reviews_all = load_dataset(\"McAuley-Lab/Amazon-Reviews-2023\", \"raw_review_Handmade_Products\",  split=\"full\", trust_remote_code=True)\n",
    "handmade_meta_all = load_dataset(\"McAuley-Lab/Amazon-Reviews-2023\", \"raw_meta_Handmade_Products\", split=\"full\", trust_remote_code=True)\n",
    "\n",
    "get_basic_info(handmade_reviews_all, handmade_meta_all)"
   ]
  },
  {
   "cell_type": "code",
   "execution_count": 15,
   "metadata": {},
   "outputs": [
    {
     "name": "stdout",
     "output_type": "stream",
     "text": [
      "161979\n"
     ]
    },
    {
     "data": {
      "text/html": [
       "<div>\n",
       "<style scoped>\n",
       "    .dataframe tbody tr th:only-of-type {\n",
       "        vertical-align: middle;\n",
       "    }\n",
       "\n",
       "    .dataframe tbody tr th {\n",
       "        vertical-align: top;\n",
       "    }\n",
       "\n",
       "    .dataframe thead th {\n",
       "        text-align: right;\n",
       "    }\n",
       "</style>\n",
       "<table border=\"1\" class=\"dataframe\">\n",
       "  <thead>\n",
       "    <tr style=\"text-align: right;\">\n",
       "      <th></th>\n",
       "      <th>Unnamed: 0.1</th>\n",
       "      <th>rating</th>\n",
       "      <th>title</th>\n",
       "      <th>text</th>\n",
       "      <th>images</th>\n",
       "      <th>asin</th>\n",
       "      <th>parent_asin</th>\n",
       "      <th>user_id</th>\n",
       "      <th>timestamp</th>\n",
       "      <th>helpful_vote</th>\n",
       "      <th>verified_purchase</th>\n",
       "      <th>index</th>\n",
       "    </tr>\n",
       "  </thead>\n",
       "  <tbody>\n",
       "    <tr>\n",
       "      <th>0</th>\n",
       "      <td>0</td>\n",
       "      <td>5.0</td>\n",
       "      <td>Beautiful colors</td>\n",
       "      <td>I bought one for myself and one for my grandda...</td>\n",
       "      <td>[]</td>\n",
       "      <td>B08GPJ1MSN</td>\n",
       "      <td>B08GPJ1MSN</td>\n",
       "      <td>AF7OANMNHQJC3PD4HRPX2FATECPA</td>\n",
       "      <td>1621607495111</td>\n",
       "      <td>1</td>\n",
       "      <td>True</td>\n",
       "      <td>0</td>\n",
       "    </tr>\n",
       "    <tr>\n",
       "      <th>1</th>\n",
       "      <td>1</td>\n",
       "      <td>5.0</td>\n",
       "      <td>Well made and so beautiful</td>\n",
       "      <td>This is beyond beautiful.  So shiny, the size ...</td>\n",
       "      <td>[]</td>\n",
       "      <td>B071ZMDK26</td>\n",
       "      <td>B071ZMDK26</td>\n",
       "      <td>AEINY4XOINMMJCK5GZ3M6MMHBN6A</td>\n",
       "      <td>1559438079784</td>\n",
       "      <td>2</td>\n",
       "      <td>True</td>\n",
       "      <td>1</td>\n",
       "    </tr>\n",
       "    <tr>\n",
       "      <th>2</th>\n",
       "      <td>2</td>\n",
       "      <td>5.0</td>\n",
       "      <td>Smells just like the real thing!</td>\n",
       "      <td>Oh wow what a pleasant surprise! This smells g...</td>\n",
       "      <td>[]</td>\n",
       "      <td>B01MPVZ4YP</td>\n",
       "      <td>B01MPVZ4YP</td>\n",
       "      <td>AGCPAPUHXYA3EEIL2KGSQTGO5HRA</td>\n",
       "      <td>1546906331674</td>\n",
       "      <td>1</td>\n",
       "      <td>True</td>\n",
       "      <td>2</td>\n",
       "    </tr>\n",
       "    <tr>\n",
       "      <th>3</th>\n",
       "      <td>3</td>\n",
       "      <td>5.0</td>\n",
       "      <td>Set of 2 Fair Trade bracelets</td>\n",
       "      <td>I purchased about 5 different color combos of ...</td>\n",
       "      <td>[]</td>\n",
       "      <td>B0855GMD9K</td>\n",
       "      <td>B0855GMD9K</td>\n",
       "      <td>AFZUK3MTBIBEDQOPAK3OATUOUKLA</td>\n",
       "      <td>1607109316926</td>\n",
       "      <td>7</td>\n",
       "      <td>True</td>\n",
       "      <td>3</td>\n",
       "    </tr>\n",
       "    <tr>\n",
       "      <th>4</th>\n",
       "      <td>4</td>\n",
       "      <td>5.0</td>\n",
       "      <td>Love it!</td>\n",
       "      <td>Came out so good! Will buy again in the future</td>\n",
       "      <td>[]</td>\n",
       "      <td>B096G3MQMS</td>\n",
       "      <td>B09GK2JJDZ</td>\n",
       "      <td>AF2FTNKCY6XY67BKBUO4BNJRZ4XQ</td>\n",
       "      <td>1669860506507</td>\n",
       "      <td>0</td>\n",
       "      <td>True</td>\n",
       "      <td>4</td>\n",
       "    </tr>\n",
       "  </tbody>\n",
       "</table>\n",
       "</div>"
      ],
      "text/plain": [
       "   Unnamed: 0.1  rating                             title  \\\n",
       "0             0     5.0                  Beautiful colors   \n",
       "1             1     5.0        Well made and so beautiful   \n",
       "2             2     5.0  Smells just like the real thing!   \n",
       "3             3     5.0     Set of 2 Fair Trade bracelets   \n",
       "4             4     5.0                          Love it!   \n",
       "\n",
       "                                                text images        asin  \\\n",
       "0  I bought one for myself and one for my grandda...     []  B08GPJ1MSN   \n",
       "1  This is beyond beautiful.  So shiny, the size ...     []  B071ZMDK26   \n",
       "2  Oh wow what a pleasant surprise! This smells g...     []  B01MPVZ4YP   \n",
       "3  I purchased about 5 different color combos of ...     []  B0855GMD9K   \n",
       "4     Came out so good! Will buy again in the future     []  B096G3MQMS   \n",
       "\n",
       "  parent_asin                       user_id      timestamp  helpful_vote  \\\n",
       "0  B08GPJ1MSN  AF7OANMNHQJC3PD4HRPX2FATECPA  1621607495111             1   \n",
       "1  B071ZMDK26  AEINY4XOINMMJCK5GZ3M6MMHBN6A  1559438079784             2   \n",
       "2  B01MPVZ4YP  AGCPAPUHXYA3EEIL2KGSQTGO5HRA  1546906331674             1   \n",
       "3  B0855GMD9K  AFZUK3MTBIBEDQOPAK3OATUOUKLA  1607109316926             7   \n",
       "4  B09GK2JJDZ  AF2FTNKCY6XY67BKBUO4BNJRZ4XQ  1669860506507             0   \n",
       "\n",
       "   verified_purchase  index  \n",
       "0               True      0  \n",
       "1               True      1  \n",
       "2               True      2  \n",
       "3               True      3  \n",
       "4               True      4  "
      ]
     },
     "execution_count": 15,
     "metadata": {},
     "output_type": "execute_result"
    }
   ],
   "source": [
    "reviews_handmade = pd.read_csv('handmade_reviews.csv')  # with > 5 reviews\n",
    "print(len(reviews_handmade))\n",
    "reviews_handmade.head()\n",
    "# reviews_handmade.to_csv('handmade_reviews.csv', index=False)"
   ]
  },
  {
   "cell_type": "markdown",
   "metadata": {},
   "source": [
    "Look at distribution of # reviews per product"
   ]
  },
  {
   "cell_type": "code",
   "execution_count": 13,
   "metadata": {},
   "outputs": [],
   "source": [
    "def get_most_reviewed_prods(reviews_df, least_reviewed=False):\n",
    "    ''' \n",
    "    Get most reviewed products and their counts (# reviews).\n",
    "    If least_reviewed=True, get least reviewed products.\n",
    "    @param reviews_df: pandas DataFrame with reviews\n",
    "    '''\n",
    "    print(f\"Number of reviews: {reviews_df.shape[0]}\")\n",
    "    review_counts = reviews_df.groupby(['parent_asin']).agg({'text':'count'}).sort_values(by='text', ascending=least_reviewed)\n",
    "    review_counts = review_counts.reset_index()\n",
    "    review_counts = review_counts.rename({'text':'numb_of_revs'}, axis='columns')\n",
    "    print(f\"Number of unique reviews: {review_counts.shape[0]}\")\n",
    "    k = 10\n",
    "    print(f'Top {k} reviewed:\\n', review_counts.head(k),'\\n')\n",
    "    print(review_counts['numb_of_revs'].describe())"
   ]
  },
  {
   "cell_type": "code",
   "execution_count": 14,
   "metadata": {},
   "outputs": [
    {
     "name": "stdout",
     "output_type": "stream",
     "text": [
      "Number of reviews: 161979\n",
      "Number of unique reviews: 1376\n",
      "Top 10 reviewed:\n",
      "   parent_asin  numb_of_revs\n",
      "0  B01I8XISM2            49\n",
      "1  B076566WZP            50\n",
      "2  B01M333BMQ            50\n",
      "3  B09MG1S9NB            50\n",
      "4  B09M2VY4VG            50\n",
      "5  B01AIISZZK            50\n",
      "6  B01MR74VXZ            50\n",
      "7  B07V37D7YK            50\n",
      "8  B0BMZ3B3KS            50\n",
      "9  B07BH69XN2            50 \n",
      "\n",
      "count    1376.000000\n",
      "mean      117.670785\n",
      "std       127.303977\n",
      "min        49.000000\n",
      "25%        62.000000\n",
      "50%        81.000000\n",
      "75%       125.000000\n",
      "max      2498.000000\n",
      "Name: numb_of_revs, dtype: float64\n"
     ]
    }
   ],
   "source": [
    "get_most_reviewed_prods(reviews_handmade, least_reviewed=True)"
   ]
  },
  {
   "cell_type": "code",
   "execution_count": 16,
   "metadata": {},
   "outputs": [
    {
     "name": "stdout",
     "output_type": "stream",
     "text": [
      "Total number of reviews: 161979\n"
     ]
    },
    {
     "data": {
      "image/png": "[encoded data removed]",
      "text/plain": [
       "<Figure size 640x480 with 1 Axes>"
      ]
     },
     "metadata": {},
     "output_type": "display_data"
    }
   ],
   "source": [
    "# Distribution of ratings \n",
    "print(f\"Total number of reviews: {len(reviews_handmade)}\")\n",
    "reviews_handmade['rating'].value_counts().sort_index().plot(kind='bar')\n",
    "plt.title('Distribution of Ratings - Handmade')\n",
    "plt.xlabel('Rating')\n",
    "plt.ylabel('Count')\n",
    "plt.show()"
   ]
  },
  {
   "cell_type": "markdown",
   "metadata": {},
   "source": [
    "The ratings are heavily skewed towards 5-star ratings, so we balance the dataset."
   ]
  },
  {
   "cell_type": "code",
   "execution_count": 81,
   "metadata": {},
   "outputs": [],
   "source": [
    "def balance_by_rating(reviews, filename_write=None):\n",
    "    '''\n",
    "    Balance the reviews by rating, so that there are equal number of reviews for each rating.\n",
    "    @param reviews: df of reviews\n",
    "    @param rating_col: column name for the ratings\n",
    "    '''\n",
    "    # Get the number of reviews for each rating\n",
    "    rating_counts = reviews['rating'].value_counts()\n",
    "    min_rating_count = rating_counts.min()\n",
    "    print(f\"Min rating count: {min_rating_count}\")\n",
    "    balanced_reviews = pd.DataFrame()\n",
    "    for rating in rating_counts.index:\n",
    "        rating_reviews = reviews[reviews['rating'] == rating].sample(n=min_rating_count)\n",
    "        balanced_reviews = pd.concat([balanced_reviews, rating_reviews])\n",
    "    if filename_write:\n",
    "        balanced_reviews.to_csv(filename_write, index=False)\n",
    "    return balanced_reviews"
   ]
  },
  {
   "cell_type": "code",
   "execution_count": null,
   "metadata": {},
   "outputs": [],
   "source": [
    "proc_reviews_df = pd.read_csv('handmade_reviews_processed.csv')\n",
    "# Balance the reviews by rating\n",
    "balance_by_rating(proc_reviews_df, filename_write='handmade_reviews_balanced.csv')"
   ]
  },
  {
   "cell_type": "code",
   "execution_count": 87,
   "metadata": {},
   "outputs": [
    {
     "name": "stdout",
     "output_type": "stream",
     "text": [
      "Total number of reviews: 26236\n"
     ]
    },
    {
     "data": {
      "image/png": "[encoded data removed]",
      "text/plain": [
       "<Figure size 640x480 with 1 Axes>"
      ]
     },
     "metadata": {},
     "output_type": "display_data"
    }
   ],
   "source": [
    "# After balancing\n",
    "handmade_balanced = pd.read_csv('handmade_reviews_balanced.csv').dropna(subset=['text'])\n",
    "print(f\"Total number of reviews: {len(handmade_balanced)}\")\n",
    "handmade_balanced['rating'].value_counts().plot(kind='bar')\n",
    "plt.title('Distribution of Ratings - Handmade (Balanced)')\n",
    "plt.xlabel('Rating')\n",
    "plt.ylabel('Count')\n",
    "plt.show()"
   ]
  },
  {
   "cell_type": "code",
   "execution_count": 84,
   "metadata": {},
   "outputs": [
    {
     "name": "stdout",
     "output_type": "stream",
     "text": [
      "Number of reviews: 26335\n",
      "Number of unique reviews: 1375\n",
      "Top 10 most reviewed:\n",
      "   parent_asin  numb_of_revs\n",
      "0  B07NPYGTDQ             1\n",
      "1  B01M7XCUNS             1\n",
      "2  B084KKY1NG             1\n",
      "3  B0BH9F6JXC             1\n",
      "4  B074CFZ4MZ             1\n",
      "5  B073Z4FWYZ             1\n",
      "6  B078DZQ8PP             1\n",
      "7  B01CB0X6KC             1\n",
      "8  B0933GS1V6             1\n",
      "9  B07YM2CTVD             1 \n",
      "\n",
      "count    1375.000000\n",
      "mean       19.080727\n",
      "std        25.274620\n",
      "min         1.000000\n",
      "25%         7.000000\n",
      "50%        13.000000\n",
      "75%        21.000000\n",
      "max       328.000000\n",
      "Name: numb_of_revs, dtype: float64\n"
     ]
    }
   ],
   "source": [
    "get_most_reviewed_prods(handmade_balanced, least_reviewed=True)"
   ]
  },
  {
   "cell_type": "markdown",
   "metadata": {},
   "source": [
    "# Feature Properties"
   ]
  },
  {
   "cell_type": "code",
   "execution_count": 59,
   "metadata": {},
   "outputs": [
    {
     "name": "stdout",
     "output_type": "stream",
     "text": [
      "Total number of nouns: 7235\n",
      "Number nouns with freq=1: 3483\n",
      "Number nouns with freq<5: 5166\n",
      "Length of features with freq > 100: 272\n"
     ]
    },
    {
     "data": {
      "text/html": [
       "<div>\n",
       "<style scoped>\n",
       "    .dataframe tbody tr th:only-of-type {\n",
       "        vertical-align: middle;\n",
       "    }\n",
       "\n",
       "    .dataframe tbody tr th {\n",
       "        vertical-align: top;\n",
       "    }\n",
       "\n",
       "    .dataframe thead th {\n",
       "        text-align: right;\n",
       "    }\n",
       "</style>\n",
       "<table border=\"1\" class=\"dataframe\">\n",
       "  <thead>\n",
       "    <tr style=\"text-align: right;\">\n",
       "      <th></th>\n",
       "      <th>noun</th>\n",
       "      <th>count</th>\n",
       "    </tr>\n",
       "  </thead>\n",
       "  <tbody>\n",
       "    <tr>\n",
       "      <th>0</th>\n",
       "      <td>love</td>\n",
       "      <td>3224</td>\n",
       "    </tr>\n",
       "    <tr>\n",
       "      <th>1</th>\n",
       "      <td>gift</td>\n",
       "      <td>2703</td>\n",
       "    </tr>\n",
       "    <tr>\n",
       "      <th>2</th>\n",
       "      <td>quality</td>\n",
       "      <td>2437</td>\n",
       "    </tr>\n",
       "    <tr>\n",
       "      <th>3</th>\n",
       "      <td>product</td>\n",
       "      <td>2357</td>\n",
       "    </tr>\n",
       "    <tr>\n",
       "      <th>4</th>\n",
       "      <td>order</td>\n",
       "      <td>2133</td>\n",
       "    </tr>\n",
       "  </tbody>\n",
       "</table>\n",
       "</div>"
      ],
      "text/plain": [
       "      noun  count\n",
       "0     love   3224\n",
       "1     gift   2703\n",
       "2  quality   2437\n",
       "3  product   2357\n",
       "4    order   2133"
      ]
     },
     "execution_count": 59,
     "metadata": {},
     "output_type": "execute_result"
    }
   ],
   "source": [
    "handmade_features = pd.read_csv('handmade_nouns_spacy.csv')\n",
    "handmade_features = handmade_features.rename(columns = {'Unnamed: 0':'noun'})\n",
    "print(f\"Total number of nouns: {len(handmade_features)}\")\n",
    "print(f\"Number nouns with freq=1: {len(handmade_features[handmade_features['count'] == 1])}\")\n",
    "print(f\"Number nouns with freq<5: {len(handmade_features[handmade_features['count'] < 5])}\")\n",
    "\n",
    "\n",
    "# Filter df to only have nouns with > k occurrences\n",
    "k = 100\n",
    "handmade_features_filt = handmade_features[handmade_features['count'] > k]\n",
    "print(f\"Length of features with freq > {k}: {len(handmade_features_filt)}\")\n",
    "handmade_features_filt.head()"
   ]
  },
  {
   "cell_type": "code",
   "execution_count": 60,
   "metadata": {},
   "outputs": [
    {
     "data": {
      "image/png": "[encoded data removed]",
      "text/plain": [
       "<Figure size 800x500 with 1 Axes>"
      ]
     },
     "metadata": {},
     "output_type": "display_data"
    }
   ],
   "source": [
    "# Histogram of noun frequencies > 100 \n",
    "plt.figure(figsize=(8, 5))\n",
    "plt.hist(handmade_features_filt['count'], bins='auto') \n",
    "plt.title('Frequency of Nouns')\n",
    "plt.xlabel('Frequency')\n",
    "plt.ylabel('Count')\n",
    "plt.grid(True)\n",
    "plt.show()"
   ]
  },
  {
   "cell_type": "code",
   "execution_count": 61,
   "metadata": {},
   "outputs": [
    {
     "name": "stdout",
     "output_type": "stream",
     "text": [
      "267\n"
     ]
    },
    {
     "data": {
      "image/png": "[encoded data removed]",
      "text/plain": [
       "<Figure size 1000x600 with 1 Axes>"
      ]
     },
     "metadata": {},
     "output_type": "display_data"
    }
   ],
   "source": [
    "# Create df with features between freuqncy 100-2000\n",
    "handmade_features_midrange = handmade_features_filt[handmade_features_filt['count'] < 2000]\n",
    "print(len(handmade_features_midrange)) \n",
    "# Histogram of noun frequencies \n",
    "plt.figure(figsize=(10, 6))\n",
    "plt.hist(handmade_features_midrange['count'], bins=np.arange(100, 2000, 100))\n",
    "plt.title('Frequency of Nouns')\n",
    "plt.xlabel('Frequency')\n",
    "plt.ylabel('Count')\n",
    "plt.grid(True)\n",
    "plt.show()"
   ]
  },
  {
   "cell_type": "code",
   "execution_count": null,
   "metadata": {},
   "outputs": [],
   "source": []
  }
 ],
 "metadata": {
  "kernelspec": {
   "display_name": "ir2024",
   "language": "python",
   "name": "python3"
  },
  "language_info": {
   "codemirror_mode": {
    "name": "ipython",
    "version": 3
   },
   "file_extension": ".py",
   "mimetype": "text/x-python",
   "name": "python",
   "nbconvert_exporter": "python",
   "pygments_lexer": "ipython3",
   "version": "3.11.8"
  }
 },
 "nbformat": 4,
 "nbformat_minor": 2
}
