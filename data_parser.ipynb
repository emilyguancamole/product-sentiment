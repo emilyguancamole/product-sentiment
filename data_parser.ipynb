{
 "cells": [
  {
   "cell_type": "markdown",
   "metadata": {},
   "source": [
    "'''Amazon product review: online dataset '''\n",
    "\n",
    "https://huggingface.co/datasets/McAuley-Lab/Amazon-Reviews-2023\n"
   ]
  },
  {
   "cell_type": "code",
   "execution_count": 5,
   "metadata": {},
   "outputs": [],
   "source": [
    "import pandas as pd\n",
    "import nltk"
   ]
  },
  {
   "cell_type": "code",
   "execution_count": 26,
   "metadata": {},
   "outputs": [
    {
     "name": "stderr",
     "output_type": "stream",
     "text": [
      "Downloading data: 100%|██████████| 289M/289M [00:06<00:00, 42.7MB/s] \n",
      "Generating full split: 664162 examples [00:10, 65227.45 examples/s]\n",
      "Downloading data: 100%|██████████| 399M/399M [00:10<00:00, 39.1MB/s] \n",
      "Generating full split: 164817 examples [00:31, 5172.08 examples/s]\n"
     ]
    },
    {
     "name": "stdout",
     "output_type": "stream",
     "text": [
      "{'rating': 5.0, 'title': 'Beautiful colors', 'text': 'I bought one for myself and one for my granddaughter', 'images': [], 'asin': 'B08GPJ1MSN', 'parent_asin': 'B08GPJ1MSN', 'user_id': 'AF7OANMNHQJC3PD4HRPX2FATECPA', 'timestamp': 1621607495111, 'helpful_vote': 1, 'verified_purchase': True}\n",
      "{'main_category': 'Handmade', 'title': 'Daisy Keychain Wristlet Gray Fabric Key fob Lanyard', 'average_rating': 4.5, 'rating_number': 12, 'features': ['High Quality Fabrics', 'Antique Brass Metallic Hardware', '1\" wide; Approx. 5-1/2\" loop opening', 'Handmade in California'], 'description': ['This charming Daisy Fabric Keychain wristlet features an opening that loops around your wrist allowing your hands to be free to carry other things! This sweet floral daisy key fob will be your little dose of joy, lifting your spirits each time you reach for your keys! PRODUCT DETAILS: Approx. 7\" long including the split ring to hold keys. Machine stitched over quality cotton fabric and firm interfacing on inside for structure yet comfortable to hold.'], 'price': 'None', 'images': {'hi_res': [None, None, 'https://m.media-amazon.com/images/I/51TpGYCdKIL._SL1000_.jpg', 'https://m.media-amazon.com/images/I/515dUKmwsbL._SL1000_.jpg', 'https://m.media-amazon.com/images/I/513oIHPmgUL._SL1000_.jpg'], 'large': ['https://m.media-amazon.com/images/I/41J3kMGt34L.jpg', 'https://m.media-amazon.com/images/I/41slBR2YGOL.jpg', 'https://m.media-amazon.com/images/I/41++pwWvfcL.jpg', 'https://m.media-amazon.com/images/I/41JKZoroL3L.jpg', 'https://m.media-amazon.com/images/I/41xHTeVPFOL.jpg'], 'thumb': ['https://m.media-amazon.com/images/I/41J3kMGt34L._SS40_.jpg', 'https://m.media-amazon.com/images/I/41slBR2YGOL._SS40_.jpg', 'https://m.media-amazon.com/images/I/41++pwWvfcL._SS40_.jpg', 'https://m.media-amazon.com/images/I/41JKZoroL3L._SS40_.jpg', 'https://m.media-amazon.com/images/I/41xHTeVPFOL._SS40_.jpg'], 'variant': ['MAIN', 'PT01', 'PT02', 'PT03', 'PT04']}, 'videos': {'title': [], 'url': [], 'user_id': []}, 'store': 'Generic', 'categories': ['Handmade Products', 'Clothing, Shoes & Accessories', 'Luggage & Travel Gear', 'Key & Identification Accessories', 'Keychains & Keyrings'], 'details': '{\"Package Dimensions\": \"8 x 4 x 0.85 inches; 0.81 Ounces\", \"Department\": \"womens\", \"Date First Available\": \"September 11, 2018\"}', 'parent_asin': 'B07NTK7T5P', 'bought_together': None, 'subtitle': None, 'author': None}\n"
     ]
    }
   ],
   "source": [
    "from datasets import load_dataset\n",
    "\n",
    "\n",
    "# data_beauty = load_dataset(\"McAuley-Lab/Amazon-Reviews-2023\", \"raw_review_All_Beauty\", trust_remote_code=True)\n",
    "# print(data_beauty[\"full\"][1]) # print the second review in the dataset\n",
    "\n",
    "data_cellphone = load_dataset(\"McAuley-Lab/Amazon-Reviews-2023\", \"raw_review_Handmade_Products\",  split=\"full\", trust_remote_code=True)\n",
    "meta_cellphone = load_dataset(\"McAuley-Lab/Amazon-Reviews-2023\", \"raw_meta_Handmade_Products\", split=\"full\", trust_remote_code=True)\n",
    "\n",
    "\n",
    "print(data_cellphone[0]) # Review data\n",
    "print(meta_cellphone[0])        # Metadata"
   ]
  },
  {
   "cell_type": "code",
   "execution_count": 42,
   "metadata": {},
   "outputs": [
    {
     "name": "stdout",
     "output_type": "stream",
     "text": [
      "{'rating': 5.0, 'title': 'Set of 2 Fair Trade bracelets', 'text': 'I purchased about 5 different color combos of these bracelets and they are GLORIOUS.  One of the main things for me is an easy on and off - with a big bang appearance.  These are perfect.  I really like that this is a fair trade item as well.  They are just so satisfying and so beautiful. And the price?? They are a STEAL.  (Helpful hint:  look for the \"sets\" - even a better price!)  Honestly, I highly recommend them - try one.  You\\'ll be back.  In fact, I\\'m going to give a few a gifts.  They come in brown paper wrapped boxes that are actually gift ready.  Pop into a small holiday bag, or even just wrap with a ribbon.  It does say what it is on the outside of the box, but honestly, I\\'m good with that!  There is a card inside that tells what it is and even an example of how they make the item.  These are coil bracelets, that are not a new look - but these are simply beautifully done in rich, sometimes bright colors and quality made.  I can\\'t say enough positive about them.  Love!', 'images': [], 'asin': 'B0855GMD9K', 'parent_asin': 'B0855GMD9K', 'user_id': 'AFZUK3MTBIBEDQOPAK3OATUOUKLA', 'timestamp': 1607109316926, 'helpful_vote': 7, 'verified_purchase': True}\n",
      "['Handmade Products', 'Clothing, Shoes & Accessories', 'Luggage & Travel Gear', 'Key & Identification Accessories', 'Badge Clips & Reels']\n"
     ]
    }
   ],
   "source": [
    "\n",
    "print(data_cellphone[10]) # Review data\n",
    "print(meta_cellphone['categories'][202])        # Metadata"
   ]
  },
  {
   "cell_type": "code",
   "execution_count": 52,
   "metadata": {},
   "outputs": [
    {
     "ename": "TypeError",
     "evalue": "string indices must be integers, not 'str'",
     "output_type": "error",
     "traceback": [
      "\u001b[0;31m---------------------------------------------------------------------------\u001b[0m",
      "\u001b[0;31mTypeError\u001b[0m                                 Traceback (most recent call last)",
      "Cell \u001b[0;32mIn[52], line 3\u001b[0m\n\u001b[1;32m      1\u001b[0m revs \u001b[38;5;241m=\u001b[39m data_cellphone[:\u001b[38;5;241m10\u001b[39m]\n\u001b[1;32m      2\u001b[0m \u001b[38;5;28;01mfor\u001b[39;00m i, rev \u001b[38;5;129;01min\u001b[39;00m \u001b[38;5;28menumerate\u001b[39m(revs):\n\u001b[0;32m----> 3\u001b[0m     \u001b[38;5;28mprint\u001b[39m(\u001b[43mrev\u001b[49m\u001b[43m[\u001b[49m\u001b[38;5;124;43m'\u001b[39;49m\u001b[38;5;124;43mparent_asin\u001b[39;49m\u001b[38;5;124;43m'\u001b[39;49m\u001b[43m]\u001b[49m)\n",
      "\u001b[0;31mTypeError\u001b[0m: string indices must be integers, not 'str'"
     ]
    }
   ],
   "source": [
    "revs = data_cellphone[:10]\n",
    "for i, rev in enumerate(revs):\n",
    "    print(rev['parent_asin'])"
   ]
  },
  {
   "cell_type": "code",
   "execution_count": 24,
   "metadata": {},
   "outputs": [
    {
     "name": "stdout",
     "output_type": "stream",
     "text": [
      "{'rating': 4.0, 'title': 'No white background! It’s clear!', 'text': 'I bought this bc I thought it had the nice white background. Turns out it’s clear & since my phone is blue it doesn’t look anything like this.  If I had known that I would have purchased something else. It works ok.', 'images': [{'attachment_type': 'IMAGE', 'large_image_url': 'https://images-na.ssl-images-amazon.com/images/I/B1PrCo7ZjXS._SL1600_.jpg', 'medium_image_url': 'https://images-na.ssl-images-amazon.com/images/I/B1PrCo7ZjXS._SL800_.jpg', 'small_image_url': 'https://images-na.ssl-images-amazon.com/images/I/B1PrCo7ZjXS._SL256_.jpg'}], 'asin': 'B08L6L3X1S', 'parent_asin': 'B08L6L3X1S', 'user_id': 'AFKZENTNBQ7A7V7UXW5JJI6UGRYQ', 'timestamp': 1612044451196, 'helpful_vote': 0, 'verified_purchase': True}\n",
      "{'main_category': 'Cell Phones & Accessories', 'title': 'ARAREE Slim Diary Cell Phone Case for Samsung Galaxy Note 5 - Retail Packaging - Coral Pink', 'average_rating': 3.8, 'rating_number': 5, 'features': ['Genuine Cow leather with 6 different colors', '3 Pockets for ID, Cards and receipts', 'The inside skin is made of microsuede, polycarbonate', \"It doesn't have magnets The inner PC case color is gold\", 'Made in Korea'], 'description': [\"JUST LOOK, You can tell the difference. Make everyday more convenient, it is slim but has big rooms. If you are looking for a rich and luxurious appearance, look no further. These double shoulders are the perfect leather for creating attractive finished belts, straps and wallets. It doesn't only show the perfect weight for accessories where rugged durability is needed but also has a natural finish and coarse grain.\"], 'price': 'None', 'images': {'hi_res': [None, None, None, None, None, None, None], 'large': ['https://m.media-amazon.com/images/I/51Q9w96zIQL._AC_.jpg', 'https://m.media-amazon.com/images/I/313l+o9yq4L._AC_.jpg', 'https://m.media-amazon.com/images/I/31dB-5tjhbL._AC_.jpg', 'https://m.media-amazon.com/images/I/51EQ5aGITZL._AC_.jpg', 'https://m.media-amazon.com/images/I/51f+krWe67L._AC_.jpg', 'https://m.media-amazon.com/images/I/51XUQoEKNDL._AC_.jpg', 'https://m.media-amazon.com/images/I/51VNEfu9LSL._AC_.jpg'], 'thumb': ['https://m.media-amazon.com/images/I/51Q9w96zIQL._AC_SR38,50_.jpg', 'https://m.media-amazon.com/images/I/313l+o9yq4L._AC_SR38,50_.jpg', 'https://m.media-amazon.com/images/I/31dB-5tjhbL._AC_SR38,50_.jpg', 'https://m.media-amazon.com/images/I/51EQ5aGITZL._AC_SR38,50_.jpg', 'https://m.media-amazon.com/images/I/51f+krWe67L._AC_SR38,50_.jpg', 'https://m.media-amazon.com/images/I/51XUQoEKNDL._AC_SR38,50_.jpg', 'https://m.media-amazon.com/images/I/51VNEfu9LSL._AC_SR38,50_.jpg'], 'variant': ['MAIN', 'PT01', 'PT02', 'PT03', 'PT04', 'PT05', 'PT06']}, 'videos': {'title': [], 'url': [], 'user_id': []}, 'store': 'araree', 'categories': ['Cell Phones & Accessories', 'Cases, Holsters & Sleeves', 'Basic Cases'], 'details': '{\"Product Dimensions\": \"3.35 x 0.59 x 6.18 inches\", \"Item Weight\": \"2.68 ounces\", \"Item model number\": \"AR10-00069E\", \"Is Discontinued By Manufacturer\": \"No\", \"Other display features\": \"Wireless\", \"Color\": \"CORAL PINK\", \"Manufacturer\": \"Latte Communications\", \"Date First Available\": \"August 13, 2015\", \"Brand\": \"araree\", \"Compatible Phone Models\": \"Samsung Galaxy Note, Samsung Galaxy Note 5\", \"Material\": \"Leather, Polycarbonate\", \"Screen Size\": \"5.7 Inches\"}', 'parent_asin': 'B013SK1JTY', 'bought_together': None, 'subtitle': None, 'author': None}\n"
     ]
    }
   ],
   "source": [
    "from datasets import load_dataset\n",
    "\n",
    "\n",
    "# data_beauty = load_dataset(\"McAuley-Lab/Amazon-Reviews-2023\", \"raw_review_All_Beauty\", trust_remote_code=True)\n",
    "# print(data_beauty[\"full\"][1]) # print the second review in the dataset\n",
    "\n",
    "data_cellphone = load_dataset(\"McAuley-Lab/Amazon-Reviews-2023\", \"raw_review_Cell_Phones_and_Accessories\",  split=\"full\", trust_remote_code=True)\n",
    "meta_cellphone = load_dataset(\"McAuley-Lab/Amazon-Reviews-2023\", \"raw_meta_Cell_Phones_and_Accessories\", split=\"full\", trust_remote_code=True)\n",
    "\n",
    "\n",
    "print(data_cellphone[0]) # Review data\n",
    "print(meta_cellphone[0])        # Metadata"
   ]
  },
  {
   "cell_type": "code",
   "execution_count": 25,
   "metadata": {},
   "outputs": [
    {
     "name": "stdout",
     "output_type": "stream",
     "text": [
      "20812945\n",
      "1288490\n"
     ]
    }
   ],
   "source": [
    "print(len(data_cellphone))\n",
    "print(len(meta_cellphone))"
   ]
  },
  {
   "cell_type": "code",
   "execution_count": 21,
   "metadata": {},
   "outputs": [
    {
     "ename": "TypeError",
     "evalue": "unhashable type: 'list'",
     "output_type": "error",
     "traceback": [
      "\u001b[0;31m---------------------------------------------------------------------------\u001b[0m",
      "\u001b[0;31mTypeError\u001b[0m                                 Traceback (most recent call last)",
      "Cell \u001b[0;32mIn[21], line 1\u001b[0m\n\u001b[0;32m----> 1\u001b[0m meta_category_set \u001b[38;5;241m=\u001b[39m \u001b[38;5;28;43mset\u001b[39;49m\u001b[43m(\u001b[49m\u001b[43mmeta_cellphone\u001b[49m\u001b[43m[\u001b[49m\u001b[38;5;124;43m\"\u001b[39;49m\u001b[38;5;124;43mcategories\u001b[39;49m\u001b[38;5;124;43m\"\u001b[39;49m\u001b[43m]\u001b[49m\u001b[43m)\u001b[49m\n\u001b[1;32m      2\u001b[0m meta_category_set\n",
      "\u001b[0;31mTypeError\u001b[0m: unhashable type: 'list'"
     ]
    }
   ],
   "source": [
    "meta_category_set = set(meta_cellphone[\"categories\"])\n",
    "meta_category_set"
   ]
  },
  {
   "cell_type": "code",
   "execution_count": 18,
   "metadata": {},
   "outputs": [
    {
     "data": {
      "text/plain": [
       "['Cell Phones & Accessories', 'Cases, Holsters & Sleeves', 'Basic Cases']"
      ]
     },
     "execution_count": 18,
     "metadata": {},
     "output_type": "execute_result"
    }
   ],
   "source": [
    "meta_cellphone[22][\"categories\"]"
   ]
  },
  {
   "cell_type": "code",
   "execution_count": 6,
   "metadata": {},
   "outputs": [],
   "source": [
    "def get_meta_categories(metadata_json, select_cat):\n",
    "  ''' Read in a subset of the metadata (json format) with the specified categories in meta_path[i]['categories']'''\n",
    "  subset = []\n",
    "  for rev in metadata_json:\n",
    "    if select_cat in rev['categories']:\n",
    "        subset.append(rev)\n",
    "  df = pd.DataFrame(subset)\n",
    "  return df"
   ]
  },
  {
   "cell_type": "code",
   "execution_count": 7,
   "metadata": {},
   "outputs": [
    {
     "ename": "NameError",
     "evalue": "name 'old' is not defined",
     "output_type": "error",
     "traceback": [
      "\u001b[0;31m---------------------------------------------------------------------------\u001b[0m",
      "\u001b[0;31mNameError\u001b[0m                                 Traceback (most recent call last)",
      "Cell \u001b[0;32mIn[7], line 1\u001b[0m\n\u001b[0;32m----> 1\u001b[0m \u001b[43mold\u001b[49m\n",
      "\u001b[0;31mNameError\u001b[0m: name 'old' is not defined"
     ]
    }
   ],
   "source": [
    "meta_phonecases = get_meta_categories(meta_cellphone, 'Basic Cases')"
   ]
  },
  {
   "cell_type": "markdown",
   "metadata": {},
   "source": [
    "old"
   ]
  },
  {
   "cell_type": "code",
   "execution_count": 17,
   "metadata": {},
   "outputs": [
    {
     "data": {
      "text/plain": [
       "20812945"
      ]
     },
     "execution_count": 17,
     "metadata": {},
     "output_type": "execute_result"
    }
   ],
   "source": [
    "len(data_cellphone) # Total number of reviews"
   ]
  },
  {
   "cell_type": "code",
   "execution_count": 16,
   "metadata": {},
   "outputs": [
    {
     "name": "stdout",
     "output_type": "stream",
     "text": [
      "<class 'list'>\n",
      "20000\n"
     ]
    }
   ],
   "source": [
    "reviews = data_cellphone['text'][0:20000] # 20k reviews\n",
    "print(type(reviews))\n",
    "print(len(reviews))"
   ]
  },
  {
   "cell_type": "code",
   "execution_count": 6,
   "metadata": {},
   "outputs": [
    {
     "name": "stderr",
     "output_type": "stream",
     "text": [
      "[nltk_data] Downloading package punkt to /Users/emilyguan/nltk_data...\n",
      "[nltk_data]   Package punkt is already up-to-date!\n",
      "[nltk_data] Downloading package averaged_perceptron_tagger to\n",
      "[nltk_data]     /Users/emilyguan/nltk_data...\n",
      "[nltk_data]   Unzipping taggers/averaged_perceptron_tagger.zip.\n"
     ]
    },
    {
     "data": {
      "text/plain": [
       "True"
      ]
     },
     "execution_count": 6,
     "metadata": {},
     "output_type": "execute_result"
    }
   ],
   "source": [
    "nltk.download('punkt')\n",
    "nltk.download('averaged_perceptron_tagger')"
   ]
  },
  {
   "cell_type": "code",
   "execution_count": 13,
   "metadata": {},
   "outputs": [],
   "source": [
    "def get_nouns(text):\n",
    "    nouns = []\n",
    "    for sentence in nltk.sent_tokenize(text): #? Tokenize into sentences, then words\n",
    "        for word, pos in nltk.pos_tag(nltk.word_tokenize(sentence)):\n",
    "            if pos.startswith('NN'):  # NN is nouns\n",
    "                nouns.append(word)\n",
    "    return nouns\n",
    "\n",
    "def get_nouns_all_reviews(reviews):\n",
    "    all_nouns = []\n",
    "    for i, review in enumerate(reviews):\n",
    "        if i%1000==0: print(i)\n",
    "        all_nouns += get_nouns(review)\n",
    "    return all_nouns"
   ]
  },
  {
   "cell_type": "code",
   "execution_count": 11,
   "metadata": {},
   "outputs": [
    {
     "name": "stdout",
     "output_type": "stream",
     "text": [
      "Review 0: I bought this bc I thought it had the nice white background. Turns out it’s clear & since my phone is blue it doesn’t look anything like this.  If I had known that I would have purchased something else. It works ok.\n",
      "Review nouns: ['bc', 'background', 'phone', 'look', 'anything', 'something']\n"
     ]
    }
   ],
   "source": [
    "print(\"Review 0:\", reviews[0])\n",
    "\n",
    "print(\"Review nouns:\", get_nouns(reviews[0]))\n",
    "\n",
    "# TODO: shorthands like bc are not nouns\n",
    "# TODO?? include \"It\" / pronouns"
   ]
  },
  {
   "cell_type": "code",
   "execution_count": 18,
   "metadata": {},
   "outputs": [
    {
     "name": "stdout",
     "output_type": "stream",
     "text": [
      "0\n",
      "1000\n",
      "2000\n",
      "3000\n",
      "4000\n",
      "5000\n",
      "6000\n",
      "7000\n",
      "8000\n",
      "9000\n",
      "10000\n",
      "11000\n",
      "12000\n",
      "13000\n",
      "14000\n",
      "15000\n",
      "16000\n",
      "17000\n",
      "18000\n",
      "19000\n",
      "Number of nouns: 301768\n",
      "top 10--------------\n",
      "[('/', 16035), ('br', 15405), ('>', 14246), ('<', 13878), ('phone', 13516), ('case', 10135), ('screen', 3640), ('product', 2193), ('protector', 1921), ('time', 1883)]\n"
     ]
    }
   ],
   "source": [
    "from collections import Counter\n",
    "# All nouns\n",
    "all_nouns = get_nouns_all_reviews(reviews)\n",
    "print(\"Number of nouns:\", len(all_nouns))\n",
    "all_noun_counts = Counter(all_nouns)\n",
    "\n",
    "# Print the top 10 most common nouns\n",
    "print(\"top 10--------------\")\n",
    "print(all_noun_counts.most_common(10))"
   ]
  },
  {
   "cell_type": "code",
   "execution_count": null,
   "metadata": {},
   "outputs": [],
   "source": []
  }
 ],
 "metadata": {
  "kernelspec": {
   "display_name": "ir2024",
   "language": "python",
   "name": "python3"
  },
  "language_info": {
   "codemirror_mode": {
    "name": "ipython",
    "version": 3
   },
   "file_extension": ".py",
   "mimetype": "text/x-python",
   "name": "python",
   "nbconvert_exporter": "python",
   "pygments_lexer": "ipython3",
   "version": "3.11.8"
  }
 },
 "nbformat": 4,
 "nbformat_minor": 2
}
